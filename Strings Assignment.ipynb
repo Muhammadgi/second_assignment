{
 "cells": [
  {
   "cell_type": "markdown",
   "id": "fb559671",
   "metadata": {},
   "source": [
    "Answer No 1/ we can stored a single quotes in a string by using double quotes or nested quotes as the example given below"
   ]
  },
  {
   "cell_type": "code",
   "execution_count": 6,
   "id": "be447995",
   "metadata": {},
   "outputs": [
    {
     "name": "stdout",
     "output_type": "stream",
     "text": [
      " '' \n"
     ]
    }
   ],
   "source": [
    "a=\" '' \"\n",
    "print(a)"
   ]
  },
  {
   "cell_type": "markdown",
   "id": "bece8ecc",
   "metadata": {},
   "source": [
    "Answer no 2/ x=\"a\" is a string or a character data type because it stored a character as well as letter"
   ]
  },
  {
   "cell_type": "markdown",
   "id": "43ef64f4",
   "metadata": {},
   "source": [
    "Answer no 3/// "
   ]
  },
  {
   "cell_type": "code",
   "execution_count": 6,
   "id": "afeacec4",
   "metadata": {},
   "outputs": [
    {
     "name": "stdout",
     "output_type": "stream",
     "text": [
      "-1\n",
      "WELCOME TO PYTHON FOUNDATION COURSE\n",
      "2\n",
      "Welcome to Python foundation course Hello World\n"
     ]
    }
   ],
   "source": [
    "a=\"Welcome to Python foundation course\"\n",
    "b=\"Hello World\"\n",
    "print(a.find('w'))\n",
    "print(a.upper())\n",
    "print(a.count('c'))\n",
    "print(a,b)\n"
   ]
  },
  {
   "cell_type": "markdown",
   "id": "ddcf75a6",
   "metadata": {},
   "source": [
    "for the variable : Word='Panaji@12256'"
   ]
  },
  {
   "cell_type": "code",
   "execution_count": 12,
   "id": "85856850",
   "metadata": {},
   "outputs": [
    {
     "ename": "SyntaxError",
     "evalue": "unexpected EOF while parsing (1092068412.py, line 2)",
     "output_type": "error",
     "traceback": [
      "\u001b[1;36m  File \u001b[1;32m\"C:\\Users\\BSP\\AppData\\Local\\Temp\\ipykernel_11996\\1092068412.py\"\u001b[1;36m, line \u001b[1;32m2\u001b[0m\n\u001b[1;33m    print(len(word.upper())\u001b[0m\n\u001b[1;37m                           ^\u001b[0m\n\u001b[1;31mSyntaxError\u001b[0m\u001b[1;31m:\u001b[0m unexpected EOF while parsing\n"
     ]
    }
   ],
   "source": [
    "word='Panaji12256'\n",
    "print(len(word.upper())"
   ]
  },
  {
   "cell_type": "code",
   "execution_count": null,
   "id": "5e5d4c1a",
   "metadata": {},
   "outputs": [],
   "source": []
  }
 ],
 "metadata": {
  "kernelspec": {
   "display_name": "Python 3 (ipykernel)",
   "language": "python",
   "name": "python3"
  },
  "language_info": {
   "codemirror_mode": {
    "name": "ipython",
    "version": 3
   },
   "file_extension": ".py",
   "mimetype": "text/x-python",
   "name": "python",
   "nbconvert_exporter": "python",
   "pygments_lexer": "ipython3",
   "version": "3.9.13"
  }
 },
 "nbformat": 4,
 "nbformat_minor": 5
}
